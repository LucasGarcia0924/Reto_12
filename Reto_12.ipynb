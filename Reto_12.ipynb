{
 "cells": [
  {
   "cell_type": "markdown",
   "metadata": {},
   "source": [
    "# Reto 12 PDC\n",
    "***"
   ]
  },
  {
   "cell_type": "code",
   "execution_count": null,
   "metadata": {},
   "outputs": [],
   "source": [
    "def contarVocales(texto: str):\n",
    "    # Se incializan y declaran variables para comparar las vocales en minúscula dentro del texto\n",
    "    vocales : str = \"aeiou\"\n",
    "    acumulado: int = 0\n",
    "    i : int = 0\n",
    "    print(\"Las vocales aparecen en esta cantidad:\\n\")\n",
    "    # Para cada vocal se obtiene su frecuencia y se acumula para imprimir el total\n",
    "    for i in range(len(vocales)):\n",
    "        vocal = texto.count(vocales[i])\n",
    "        print(f\"{vocales[i]}: {vocal} veces\")\n",
    "        acumulado += vocal\n",
    "    print(f\"\\nEn total, dentro del texto aparecen: {acumulado} vocales\")\n",
    "\n",
    "def contarConsonantes(texto: str):\n",
    "    # Se incializan y declaran variables para comparar las consonantes en minúscula dentro del texto\n",
    "    consonantes : str = \"bcdfghjklmnpqrstvwxyz\"\n",
    "    acumulado: int = 0\n",
    "    j : int = 0\n",
    "    print(\"Las consonantes aparecen en esta cantidad:\\n\")\n",
    "    # Para cada consonante se obtiene su frecuencia y se acumula para imprimir el total\n",
    "    for j in range(len(consonantes)):\n",
    "        consonante: int = texto.count(consonantes[j])\n",
    "        print(f\"{consonantes[j]}: {consonante} veces\")\n",
    "        acumulado += consonante\n",
    "    print(f\"\\nEn total, dentro del texto aparecen: {acumulado} consonantes\")\n",
    "\n",
    "def analizarArchivo():\n",
    "    # Se declaran e inicializan las variables\n",
    "    palabras: list = []\n",
    "    top50Palabras: list = []\n",
    "    frecuenciaPalabra : dict = {}\n",
    "    # Se lee el contenido del archivo y se guarda en un string\n",
    "    file = open(\"mbox.txt\")\n",
    "    texto : str = file.read()\n",
    "    texto = texto.lower()\n",
    "    file.close()\n",
    "    \n",
    "    # Se llaman a las funciones para contar vocales y consonantes\n",
    "    contarVocales(texto)\n",
    "    print(\"\\n\")\n",
    "    contarConsonantes(texto)\n",
    "\n",
    "    # Se reemplazan caracteres no alfabéticos por espacios\n",
    "    texto = \"\".join(carácter if carácter.isalpha() or carácter.isspace() else \" \" for carácter in texto)\n",
    "    # Se separa el texto en palabras\n",
    "    palabras = texto.split()\n",
    "\n",
    "    # Se Cuenta la frecuencia de cada palabra\n",
    "    for palabra in palabras:\n",
    "        if palabra in frecuenciaPalabra:\n",
    "            frecuenciaPalabra[palabra] += 1\n",
    "        else:\n",
    "            frecuenciaPalabra[palabra] = 1\n",
    "\n",
    "    # Se ordenan las palabras por frecuencia y se obtienen las 50 más comunes\n",
    "    palabras = sorted(frecuenciaPalabra.items(), key=lambda item: item[1], reverse=True)\n",
    "    top50Palabras = palabras[:50]\n",
    "\n",
    "    print(\"\\nListado de las 50 palabras que más se repiten:\")\n",
    "    for palabras, cantidad in top50Palabras:\n",
    "        print(f\"{palabras}: {cantidad} veces\")\n",
    "\n",
    "if __name__ == \"__main__\": # Función main para iniciar el código\n",
    "    # Se llaman a las funciones\n",
    "    analizarArchivo()"
   ]
  }
 ],
 "metadata": {
  "kernelspec": {
   "display_name": "Python 3",
   "language": "python",
   "name": "python3"
  },
  "language_info": {
   "codemirror_mode": {
    "name": "ipython",
    "version": 3
   },
   "file_extension": ".py",
   "mimetype": "text/x-python",
   "name": "python",
   "nbconvert_exporter": "python",
   "pygments_lexer": "ipython3",
   "version": "3.12.5"
  },
  "orig_nbformat": 4
 },
 "nbformat": 4,
 "nbformat_minor": 2
}
